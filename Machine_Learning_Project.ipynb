{
  "cells": [
    {
      "cell_type": "markdown",
      "metadata": {
        "id": "view-in-github",
        "colab_type": "text"
      },
      "source": [
        "<a href=\"https://colab.research.google.com/github/AliBeidoun24/PersonalProjects/blob/Machine-Learning-Project/Machine_Learning_Project.ipynb\" target=\"_parent\"><img src=\"https://colab.research.google.com/assets/colab-badge.svg\" alt=\"Open In Colab\"/></a>"
      ]
    },
    {
      "cell_type": "code",
      "source": [
        "%matplotlib inline\n",
        "from matplotlib import pyplot as plt\n",
        "import numpy as np"
      ],
      "metadata": {
        "id": "UzD5Js94FSYv"
      },
      "execution_count": null,
      "outputs": []
    },
    {
      "cell_type": "code",
      "source": [
        "from google.colab import files\n",
        "\n",
        "uploaded = files.upload()"
      ],
      "metadata": {
        "id": "suqS3lcpETlF",
        "colab": {
          "base_uri": "https://localhost:8080/",
          "height": 73
        },
        "outputId": "0f5559ab-f3a9-4b7e-9ea5-948e17cea926"
      },
      "execution_count": null,
      "outputs": [
        {
          "output_type": "display_data",
          "data": {
            "text/plain": [
              "<IPython.core.display.HTML object>"
            ],
            "text/html": [
              "\n",
              "     <input type=\"file\" id=\"files-a55e58c6-5496-4a4d-ad1d-90ce22bb3850\" name=\"files[]\" multiple disabled\n",
              "        style=\"border:none\" />\n",
              "     <output id=\"result-a55e58c6-5496-4a4d-ad1d-90ce22bb3850\">\n",
              "      Upload widget is only available when the cell has been executed in the\n",
              "      current browser session. Please rerun this cell to enable.\n",
              "      </output>\n",
              "      <script>// Copyright 2017 Google LLC\n",
              "//\n",
              "// Licensed under the Apache License, Version 2.0 (the \"License\");\n",
              "// you may not use this file except in compliance with the License.\n",
              "// You may obtain a copy of the License at\n",
              "//\n",
              "//      http://www.apache.org/licenses/LICENSE-2.0\n",
              "//\n",
              "// Unless required by applicable law or agreed to in writing, software\n",
              "// distributed under the License is distributed on an \"AS IS\" BASIS,\n",
              "// WITHOUT WARRANTIES OR CONDITIONS OF ANY KIND, either express or implied.\n",
              "// See the License for the specific language governing permissions and\n",
              "// limitations under the License.\n",
              "\n",
              "/**\n",
              " * @fileoverview Helpers for google.colab Python module.\n",
              " */\n",
              "(function(scope) {\n",
              "function span(text, styleAttributes = {}) {\n",
              "  const element = document.createElement('span');\n",
              "  element.textContent = text;\n",
              "  for (const key of Object.keys(styleAttributes)) {\n",
              "    element.style[key] = styleAttributes[key];\n",
              "  }\n",
              "  return element;\n",
              "}\n",
              "\n",
              "// Max number of bytes which will be uploaded at a time.\n",
              "const MAX_PAYLOAD_SIZE = 100 * 1024;\n",
              "\n",
              "function _uploadFiles(inputId, outputId) {\n",
              "  const steps = uploadFilesStep(inputId, outputId);\n",
              "  const outputElement = document.getElementById(outputId);\n",
              "  // Cache steps on the outputElement to make it available for the next call\n",
              "  // to uploadFilesContinue from Python.\n",
              "  outputElement.steps = steps;\n",
              "\n",
              "  return _uploadFilesContinue(outputId);\n",
              "}\n",
              "\n",
              "// This is roughly an async generator (not supported in the browser yet),\n",
              "// where there are multiple asynchronous steps and the Python side is going\n",
              "// to poll for completion of each step.\n",
              "// This uses a Promise to block the python side on completion of each step,\n",
              "// then passes the result of the previous step as the input to the next step.\n",
              "function _uploadFilesContinue(outputId) {\n",
              "  const outputElement = document.getElementById(outputId);\n",
              "  const steps = outputElement.steps;\n",
              "\n",
              "  const next = steps.next(outputElement.lastPromiseValue);\n",
              "  return Promise.resolve(next.value.promise).then((value) => {\n",
              "    // Cache the last promise value to make it available to the next\n",
              "    // step of the generator.\n",
              "    outputElement.lastPromiseValue = value;\n",
              "    return next.value.response;\n",
              "  });\n",
              "}\n",
              "\n",
              "/**\n",
              " * Generator function which is called between each async step of the upload\n",
              " * process.\n",
              " * @param {string} inputId Element ID of the input file picker element.\n",
              " * @param {string} outputId Element ID of the output display.\n",
              " * @return {!Iterable<!Object>} Iterable of next steps.\n",
              " */\n",
              "function* uploadFilesStep(inputId, outputId) {\n",
              "  const inputElement = document.getElementById(inputId);\n",
              "  inputElement.disabled = false;\n",
              "\n",
              "  const outputElement = document.getElementById(outputId);\n",
              "  outputElement.innerHTML = '';\n",
              "\n",
              "  const pickedPromise = new Promise((resolve) => {\n",
              "    inputElement.addEventListener('change', (e) => {\n",
              "      resolve(e.target.files);\n",
              "    });\n",
              "  });\n",
              "\n",
              "  const cancel = document.createElement('button');\n",
              "  inputElement.parentElement.appendChild(cancel);\n",
              "  cancel.textContent = 'Cancel upload';\n",
              "  const cancelPromise = new Promise((resolve) => {\n",
              "    cancel.onclick = () => {\n",
              "      resolve(null);\n",
              "    };\n",
              "  });\n",
              "\n",
              "  // Wait for the user to pick the files.\n",
              "  const files = yield {\n",
              "    promise: Promise.race([pickedPromise, cancelPromise]),\n",
              "    response: {\n",
              "      action: 'starting',\n",
              "    }\n",
              "  };\n",
              "\n",
              "  cancel.remove();\n",
              "\n",
              "  // Disable the input element since further picks are not allowed.\n",
              "  inputElement.disabled = true;\n",
              "\n",
              "  if (!files) {\n",
              "    return {\n",
              "      response: {\n",
              "        action: 'complete',\n",
              "      }\n",
              "    };\n",
              "  }\n",
              "\n",
              "  for (const file of files) {\n",
              "    const li = document.createElement('li');\n",
              "    li.append(span(file.name, {fontWeight: 'bold'}));\n",
              "    li.append(span(\n",
              "        `(${file.type || 'n/a'}) - ${file.size} bytes, ` +\n",
              "        `last modified: ${\n",
              "            file.lastModifiedDate ? file.lastModifiedDate.toLocaleDateString() :\n",
              "                                    'n/a'} - `));\n",
              "    const percent = span('0% done');\n",
              "    li.appendChild(percent);\n",
              "\n",
              "    outputElement.appendChild(li);\n",
              "\n",
              "    const fileDataPromise = new Promise((resolve) => {\n",
              "      const reader = new FileReader();\n",
              "      reader.onload = (e) => {\n",
              "        resolve(e.target.result);\n",
              "      };\n",
              "      reader.readAsArrayBuffer(file);\n",
              "    });\n",
              "    // Wait for the data to be ready.\n",
              "    let fileData = yield {\n",
              "      promise: fileDataPromise,\n",
              "      response: {\n",
              "        action: 'continue',\n",
              "      }\n",
              "    };\n",
              "\n",
              "    // Use a chunked sending to avoid message size limits. See b/62115660.\n",
              "    let position = 0;\n",
              "    do {\n",
              "      const length = Math.min(fileData.byteLength - position, MAX_PAYLOAD_SIZE);\n",
              "      const chunk = new Uint8Array(fileData, position, length);\n",
              "      position += length;\n",
              "\n",
              "      const base64 = btoa(String.fromCharCode.apply(null, chunk));\n",
              "      yield {\n",
              "        response: {\n",
              "          action: 'append',\n",
              "          file: file.name,\n",
              "          data: base64,\n",
              "        },\n",
              "      };\n",
              "\n",
              "      let percentDone = fileData.byteLength === 0 ?\n",
              "          100 :\n",
              "          Math.round((position / fileData.byteLength) * 100);\n",
              "      percent.textContent = `${percentDone}% done`;\n",
              "\n",
              "    } while (position < fileData.byteLength);\n",
              "  }\n",
              "\n",
              "  // All done.\n",
              "  yield {\n",
              "    response: {\n",
              "      action: 'complete',\n",
              "    }\n",
              "  };\n",
              "}\n",
              "\n",
              "scope.google = scope.google || {};\n",
              "scope.google.colab = scope.google.colab || {};\n",
              "scope.google.colab._files = {\n",
              "  _uploadFiles,\n",
              "  _uploadFilesContinue,\n",
              "};\n",
              "})(self);\n",
              "</script> "
            ]
          },
          "metadata": {}
        },
        {
          "output_type": "stream",
          "name": "stdout",
          "text": [
            "Saving SSD.HDD.csv to SSD.HDD.csv\n"
          ]
        }
      ]
    },
    {
      "cell_type": "code",
      "source": [
        "# each point is length, width, type (0, 1)\n",
        "import pandas as pd\n",
        "import io\n",
        "\n",
        "db = pd.read_csv(io.BytesIO(uploaded['SSD.HDD.csv']))\n",
        "print(db)\n",
        "data = np.loadtxt('SSD.HDD.csv', delimiter = ',')\n",
        "\n",
        "mystery_price = [1.97, 0.124]"
      ],
      "metadata": {
        "colab": {
          "base_uri": "https://localhost:8080/"
        },
        "id": "mfebL6_dRV6d",
        "outputId": "3f3099c5-11c6-421e-fc16-c04c62f5dc39"
      },
      "execution_count": null,
      "outputs": [
        {
          "output_type": "stream",
          "name": "stdout",
          "text": [
            "    1.97  2.96  1\n",
            "0   1.23  2.44  1\n",
            "1   1.89  2.39  1\n",
            "2   4.40  2.38  0\n",
            "3   1.97  2.25  1\n",
            "4   4.08  2.11  0\n",
            "..   ...   ... ..\n",
            "69  1.34  0.28  1\n",
            "70  1.82  0.27  1\n",
            "71  1.33  0.26  1\n",
            "72  1.21  0.23  1\n",
            "73  3.88  0.19  0\n",
            "\n",
            "[74 rows x 3 columns]\n"
          ]
        }
      ]
    },
    {
      "cell_type": "code",
      "source": [
        "#w1 = np.random.randn()\n",
        "#w2 = np.random.randn()\n",
        "#b = np.random.randn()"
      ],
      "metadata": {
        "id": "AzgCxtY4TtAf"
      },
      "execution_count": null,
      "outputs": []
    },
    {
      "cell_type": "code",
      "source": [
        "def sigmoid(x):\n",
        "    return 1/(1 + np.exp(-x))\n",
        "\n",
        "def sigmoid_p(x):\n",
        "    return sigmoid(x) * (1 - sigmoid(x))"
      ],
      "metadata": {
        "id": "yt9N_NTlEd9x"
      },
      "execution_count": null,
      "outputs": []
    },
    {
      "cell_type": "code",
      "source": [
        "X = np.linspace(-6, 6, 100)\n",
        "plt.plot(X, sigmoid(X), c='r')\n",
        "plt.plot(X, sigmoid_p(X), c='b')\n",
        "Y = sigmoid_p(X)\n",
        "\n",
        "plt.plot(X, Y)"
      ],
      "metadata": {
        "colab": {
          "base_uri": "https://localhost:8080/",
          "height": 447
        },
        "id": "xSfe8cZaEf37",
        "outputId": "b0d2e514-519d-424d-b538-a96315986cee"
      },
      "execution_count": null,
      "outputs": [
        {
          "output_type": "execute_result",
          "data": {
            "text/plain": [
              "[<matplotlib.lines.Line2D at 0x7f2cf994fb80>]"
            ]
          },
          "metadata": {},
          "execution_count": 28
        },
        {
          "output_type": "display_data",
          "data": {
            "text/plain": [
              "<Figure size 640x480 with 1 Axes>"
            ],
            "image/png": "[encoded data removed]"
          },
          "metadata": {}
        }
      ]
    },
    {
      "cell_type": "code",
      "source": [
        "\n",
        "# scatter data\n",
        "\n",
        "plt.axis([0, 5, 0, 5])\n",
        "plt.grid()\n",
        "for i in range(len(data)):\n",
        "    point = data[i]\n",
        "    color = \"r\"\n",
        "    if point[2] == 0:\n",
        "           color = \"b\"\n",
        "    plt.scatter(point[0], point[1], c = color)\n",
        "    plt.scatter(mystery_price[0], mystery_price[1], c = \"gray\")\n"
      ],
      "metadata": {
        "colab": {
          "base_uri": "https://localhost:8080/",
          "height": 435
        },
        "id": "IqSVGJk9EhUV",
        "outputId": "3c39fe02-c330-4bae-c61a-bb7c07389dd4"
      },
      "execution_count": null,
      "outputs": [
        {
          "output_type": "display_data",
          "data": {
            "text/plain": [
              "<Figure size 640x480 with 1 Axes>"
            ],
            "image/png": "[encoded data removed]"
          },
          "metadata": {}
        }
      ]
    },
    {
      "cell_type": "code",
      "source": [
        "learning_rate = 0.2\n",
        "costs = []\n",
        "\n",
        "w1 = np.random.randn()\n",
        "w2 = np.random.randn()\n",
        "b = np.random.randn()\n",
        "\n",
        "\n",
        "for i in range(1, 50000):\n",
        "    ri = np.random.randint(len(data))\n",
        "    point = data[ri]\n",
        "\n",
        "    z = point[0] * w1 + point[1] * w2 + b\n",
        "    pred = sigmoid(z)\n",
        "\n",
        "    target = point[2]\n",
        "    cost = np.square(pred - target)\n",
        "\n",
        "    dcost_pred = 2 * (pred - target)\n",
        "    dpred_dz = sigmoid_p(z)\n",
        "\n",
        "    dz_dw1 = point[0]\n",
        "    dz_dw2 = point[1]\n",
        "    dz_db = 1\n",
        "\n",
        "    dcost_dz = dcost_pred * dpred_dz\n",
        "\n",
        "    dcost_dw1 = dcost_dz * dz_dw1\n",
        "    dcost_dw2 = dcost_dz * dz_dw2\n",
        "    dcost_db = dcost_dz * dz_db\n",
        "\n",
        "    w1 = w1 - learning_rate * dcost_dw1\n",
        "    w2 = w2 - learning_rate * dcost_dw2\n",
        "    b = b - learning_rate * dcost_db\n",
        "\n",
        "    if i % 100 == 0:\n",
        "        cost_sum = 0\n",
        "        for j in range(len(data)):\n",
        "            point = data[j]\n",
        "\n",
        "            z = point[0] * w1 + point[1] * w2 + b\n",
        "            pred = sigmoid(z)\n",
        "\n",
        "            target = point[2]\n",
        "            cost_sum += np.square(pred - target)\n",
        "\n",
        "        costs.append(cost_sum/len(data))\n",
        "\n",
        "plt.plot(costs)"
      ],
      "metadata": {
        "colab": {
          "base_uri": "https://localhost:8080/",
          "height": 448
        },
        "id": "AcRnjD1yElBs",
        "outputId": "b151f9e8-a41d-4e78-a45c-31c4005322bc"
      },
      "execution_count": null,
      "outputs": [
        {
          "output_type": "execute_result",
          "data": {
            "text/plain": [
              "[<matplotlib.lines.Line2D at 0x7f2cfa41bbe0>]"
            ]
          },
          "metadata": {},
          "execution_count": 11
        },
        {
          "output_type": "display_data",
          "data": {
            "text/plain": [
              "<Figure size 640x480 with 1 Axes>"
            ],
            "image/png": "[encoded data removed]"
          },
          "metadata": {}
        }
      ]
    },
    {
      "cell_type": "code",
      "source": [
        "w1"
      ],
      "metadata": {
        "colab": {
          "base_uri": "https://localhost:8080/"
        },
        "id": "ykcRfu3bF2kP",
        "outputId": "43d7b8c3-b411-4432-b638-a87f4e19df81"
      },
      "execution_count": null,
      "outputs": [
        {
          "output_type": "execute_result",
          "data": {
            "text/plain": [
              "-4.34171797678683"
            ]
          },
          "metadata": {},
          "execution_count": 12
        }
      ]
    },
    {
      "cell_type": "code",
      "source": [
        "w2"
      ],
      "metadata": {
        "colab": {
          "base_uri": "https://localhost:8080/"
        },
        "id": "uoMeOytZF2Zz",
        "outputId": "4e945ed7-21d7-41c8-8ff6-c41ed6721480"
      },
      "execution_count": null,
      "outputs": [
        {
          "output_type": "execute_result",
          "data": {
            "text/plain": [
              "-0.11445248832201249"
            ]
          },
          "metadata": {},
          "execution_count": 13
        }
      ]
    },
    {
      "cell_type": "code",
      "source": [
        "b"
      ],
      "metadata": {
        "colab": {
          "base_uri": "https://localhost:8080/"
        },
        "id": "D3s1uZ14F2O6",
        "outputId": "c5d0da58-44ab-4fc7-84f0-9ad76322f5fe"
      },
      "execution_count": null,
      "outputs": [
        {
          "output_type": "execute_result",
          "data": {
            "text/plain": [
              "13.860797116026713"
            ]
          },
          "metadata": {},
          "execution_count": 14
        }
      ]
    },
    {
      "cell_type": "code",
      "source": [
        "\n",
        "# seeing the model prediciton\n",
        "\n",
        "for i in range(len(data)):\n",
        "    point = data[i]\n",
        "    print(point)\n",
        "    z = point[0] * w1 + point[1] * w2 + b\n",
        "    pred = sigmoid(z)\n",
        "    print(\"pred: {}\".format(pred))"
      ],
      "metadata": {
        "colab": {
          "base_uri": "https://localhost:8080/"
        },
        "id": "csLTv5wKEsNC",
        "outputId": "38fb8aff-c1bb-45f0-99c4-2906e58605a3"
      },
      "execution_count": null,
      "outputs": [
        {
          "output_type": "stream",
          "name": "stdout",
          "text": [
            "[1.97 2.96 1.  ]\n",
            "pred: 0.993096733273725\n",
            "[1.23 2.44 1.  ]\n",
            "pred: 0.9997365069222882\n",
            "[1.89 2.39 1.  ]\n",
            "pred: 0.9954197398196\n",
            "[4.4  2.38 0.  ]\n",
            "pred: 0.0040091496724832636\n",
            "[1.97 2.25 1.  ]\n",
            "pred: 0.9936320831091976\n",
            "[4.08 2.11 0.  ]\n",
            "pred: 0.01638437627858409\n",
            "[1.4  2.05 1.  ]\n",
            "pred: 0.9994729902434096\n",
            "[3.97 2.   0.  ]\n",
            "pred: 0.02647485528071425\n",
            "[3.67 2.   0.  ]\n",
            "pred: 0.0909398606829306\n",
            "[0.86 2.   1.  ]\n",
            "pred: 0.9999497281335517\n",
            "[3.92 1.95 0.  ]\n",
            "pred: 0.03286532184961761\n",
            "[1.65 1.85 1.  ]\n",
            "pred: 0.9984765076866506\n",
            "[1.47 1.7  1.  ]\n",
            "pred: 0.9993139696750536\n",
            "[1.53 1.67 1.  ]\n",
            "pred: 0.9991130485401233\n",
            "[1.25 1.56 1.  ]\n",
            "pred: 0.9997401389929179\n",
            "[3.8 1.5 0. ]\n",
            "pred: 0.056817794210080055\n",
            "[1.34 1.5  1.  ]\n",
            "pred: 0.9996185755617941\n",
            "[1.46 1.49 1.  ]\n",
            "pred: 0.9993586890895646\n",
            "[1.64 1.42 1.  ]\n",
            "pred: 0.9986111052067521\n",
            "[2.42 1.39 1.  ]\n",
            "pred: 0.9606362564330009\n",
            "[3.93 1.3  0.  ]\n",
            "pred: 0.033864305589078034\n",
            "[3.96 1.29 0.  ]\n",
            "pred: 0.02988523648513023\n",
            "[1.25 1.28 1.  ]\n",
            "pred: 0.999748332593857\n",
            "[1.35 1.27 1.  ]\n",
            "pred: 0.9996120023442117\n",
            "[4.33 1.18 0.  ]\n",
            "pred: 0.006219074650407246\n",
            "[4.32 1.18 0.  ]\n",
            "pred: 0.006493244841906577\n",
            "[4.2  1.05 0.  ]\n",
            "pred: 0.011045846499586691\n",
            "[1.92 0.98 1.  ]\n",
            "pred: 0.9955594878608627\n",
            "[1.24 0.97 1.  ]\n",
            "pred: 0.9997674209794181\n",
            "[1.31 0.95 1.  ]\n",
            "pred: 0.9996855643733782\n",
            "[1.24 0.94 1.  ]\n",
            "pred: 0.9997682180026489\n",
            "[2.84 0.9  1.  ]\n",
            "pred: 0.8064819649167093\n",
            "[1.74 0.87 1.  ]\n",
            "pred: 0.9979880445190619\n",
            "[1.48 0.86 1.  ]\n",
            "pred: 0.9993491793174842\n",
            "[1.3  0.85 1.  ]\n",
            "pred: 0.9997023454077207\n",
            "[1.26 0.83 1.  ]\n",
            "pred: 0.9997503589750408\n",
            "[1.24 0.83 1.  ]\n",
            "pred: 0.9997711171296778\n",
            "[1.51 0.81 1.  ]\n",
            "pred: 0.9992629344977116\n",
            "[4.01 0.75 0.  ]\n",
            "pred: 0.02569741943907035\n",
            "[1.61 0.75 1.  ]\n",
            "pred: 0.998870434249093\n",
            "[1.53 0.74 1.  ]\n",
            "pred: 0.9992025341568853\n",
            "[4.34 0.7  0.  ]\n",
            "pred: 0.006290679445219589\n",
            "[1.21 0.68 1.  ]\n",
            "pred: 0.999802483455618\n",
            "[1.34 0.67 1.  ]\n",
            "pred: 0.9996531294112698\n",
            "[1.3  0.65 1.  ]\n",
            "pred: 0.999709079519668\n",
            "[4.31 0.64 0.  ]\n",
            "pred: 0.007208520256532434\n",
            "[4.37 0.6  0.  ]\n",
            "pred: 0.0055899353730397795\n",
            "[1.82 0.6  1.  ]\n",
            "pred: 0.9972412056162072\n",
            "[1.42 0.6  1.  ]\n",
            "pred: 0.9995130617077561\n",
            "[2.34 0.55 1.  ]\n",
            "pred: 0.9743750094733673\n",
            "[1.3  0.55 1.  ]\n",
            "pred: 0.9997123892428785\n",
            "[1.23 0.55 1.  ]\n",
            "pred: 0.9997877503556037\n",
            "[1.27 0.53 1.  ]\n",
            "pred: 0.9997480821249708\n",
            "[3.81 0.52 0.  ]\n",
            "pred: 0.060616101766972616\n",
            "[4.05 0.49 0.  ]\n",
            "pred: 0.022329971939983064\n",
            "[1.42 0.48 1.  ]\n",
            "pred: 0.9995197005572076\n",
            "[2.81 0.44 1.  ]\n",
            "pred: 0.8334406104174455\n",
            "[1.35 0.44 1.  ]\n",
            "pred: 0.9996471514617802\n",
            "[1.43 0.41 1.  ]\n",
            "pred: 0.9995023993018731\n",
            "[3.7 0.4 0. ]\n",
            "pred: 0.09540637639560673\n",
            "[1.24 0.4  1.  ]\n",
            "pred: 0.9997821064128765\n",
            "[0.83 0.39 1.  ]\n",
            "pred: 0.999963294040485\n",
            "[1.36 0.38 1.  ]\n",
            "pred: 0.9996340210602775\n",
            "[4.25 0.35 0.  ]\n",
            "pred: 0.009645584236528598\n",
            "[1.42 0.32 1.  ]\n",
            "pred: 0.9995284118383411\n",
            "[3.95 0.31 0.  ]\n",
            "pred: 0.034741226348542806\n",
            "[3.74 0.3  0.  ]\n",
            "pred: 0.08229513383094196\n",
            "[1.44 0.3  1.  ]\n",
            "pred: 0.9994868286669542\n",
            "[1.4 0.3 1. ]\n",
            "pred: 0.999568605550161\n",
            "[1.25 0.3  1.  ]\n",
            "pred: 0.9997750289644401\n",
            "[1.34 0.28 1.  ]\n",
            "pred: 0.999668266996341\n",
            "[1.82 0.27 1.  ]\n",
            "pred: 0.9973431885374131\n",
            "[1.33 0.26 1.  ]\n",
            "pred: 0.9996830832785266\n",
            "[1.21 0.23 1.  ]\n",
            "pred: 0.999812396884149\n",
            "[3.88 0.19 0.  ]\n",
            "pred: 0.04711895975396891\n"
          ]
        }
      ]
    },
    {
      "cell_type": "code",
      "source": [
        "z = mystery_price[0] * w1 + point[1] * w2 + b\n",
        "pred = sigmoid(z)\n",
        "pred"
      ],
      "metadata": {
        "colab": {
          "base_uri": "https://localhost:8080/"
        },
        "id": "3WDMqTnhE1KR",
        "outputId": "f805f969-744c-4798-b556-ac783edc75cb"
      },
      "execution_count": null,
      "outputs": [
        {
          "output_type": "execute_result",
          "data": {
            "text/plain": [
              "0.9949628588966393"
            ]
          },
          "metadata": {},
          "execution_count": 39
        }
      ]
    },
    {
      "cell_type": "code",
      "source": [
        "def which_storage(width, length):\n",
        "    z = length * w1 + width * w2 + b\n",
        "    pred = sigmoid(z)\n",
        "    if pred > .5:\n",
        "      print(\"SSD\")\n",
        "    else:\n",
        "      print(\"HDD\")"
      ],
      "metadata": {
        "id": "dPtHvNHPFyBZ"
      },
      "execution_count": null,
      "outputs": []
    },
    {
      "cell_type": "code",
      "source": [
        "which_storage(.097, 0.124)"
      ],
      "metadata": {
        "colab": {
          "base_uri": "https://localhost:8080/"
        },
        "id": "JQY8R-TsFzq-",
        "outputId": "17507fef-0307-4ac4-bc85-86baa36dd1e6"
      },
      "execution_count": null,
      "outputs": [
        {
          "output_type": "stream",
          "name": "stdout",
          "text": [
            "SSD\n"
          ]
        }
      ]
    },
    {
      "cell_type": "code",
      "source": [
        "#Model sucess rate calculation\n",
        "def which_storage(length, width):\n",
        "  z = length * w1 + width * w2 + b\n",
        "  pred = sigmoid(z)\n",
        "  return(pred)\n",
        "#########################################\n",
        "correct = 0\n",
        "incorrect =  0\n",
        "for i in range(len(data)):\n",
        "  point = data[i]\n",
        "  guess = which_storage(point[0], point[1])\n",
        "\n",
        "  if (guess < 0.5 and point[2] == 0):\n",
        "    correct += 1\n",
        "  elif(guess >= 0.5 and point [2] == 1):\n",
        "    correct += 1\n",
        "  else:\n",
        "    incorrect += 1\n",
        "\n",
        "print(str(round(correct/len(data) * 100)) + \"%\")"
      ],
      "metadata": {
        "colab": {
          "base_uri": "https://localhost:8080/"
        },
        "id": "1aqeQzXYyq7h",
        "outputId": "2f3dc866-a695-4cae-877c-510fc454277c"
      },
      "execution_count": null,
      "outputs": [
        {
          "output_type": "stream",
          "name": "stdout",
          "text": [
            "100%\n"
          ]
        }
      ]
    }
  ],
  "metadata": {
    "colab": {
      "provenance": [],
      "include_colab_link": true
    },
    "kernelspec": {
      "display_name": "Python 3",
      "name": "python3"
    }
  },
  "nbformat": 4,
  "nbformat_minor": 0
}